{
  "nbformat": 4,
  "nbformat_minor": 0,
  "metadata": {
    "colab": {
      "provenance": [],
      "authorship_tag": "ABX9TyOUM4DnPuB+F4I6KuM3Vqgj",
      "include_colab_link": true
    },
    "kernelspec": {
      "name": "python3",
      "display_name": "Python 3"
    },
    "language_info": {
      "name": "python"
    }
  },
  "cells": [
    {
      "cell_type": "markdown",
      "metadata": {
        "id": "view-in-github",
        "colab_type": "text"
      },
      "source": [
        "<a href=\"https://colab.research.google.com/github/zoo53830833-jpg/AI_09_15/blob/main/1013-1.ipynb\" target=\"_parent\"><img src=\"https://colab.research.google.com/assets/colab-badge.svg\" alt=\"Open In Colab\"/></a>"
      ]
    },
    {
      "cell_type": "code",
      "execution_count": 1,
      "metadata": {
        "colab": {
          "base_uri": "https://localhost:8080/"
        },
        "id": "ik1q8X8Qqw8a",
        "outputId": "75aca757-23bf-46d1-b943-c78c2ff9f1f5"
      },
      "outputs": [
        {
          "output_type": "stream",
          "name": "stdout",
          "text": [
            "加法程式\n",
            "請輸入第一個整數值> 56\n",
            "請輸入第二個整數值> 65\n",
            "答案是 121\n"
          ]
        }
      ],
      "source": [
        "print('加法程式')\n",
        "x = int(input('請輸入第一個整數值> '))\n",
        "y = int(input('請輸入第二個整數值> '))\n",
        "total = x+y\n",
        "print('答案是', total)\n"
      ]
    },
    {
      "cell_type": "code",
      "source": [
        "print('加法程式')\n",
        "x, y = input('請輸入兩個整數值> ').split()\n",
        "x = int(x)\n",
        "y = int(y)\n",
        "total = x+y\n",
        "print('答案是', total)"
      ],
      "metadata": {
        "colab": {
          "base_uri": "https://localhost:8080/"
        },
        "id": "M4f8r0egrYrC",
        "outputId": "4c1b445c-e090-4ee8-a4e8-b0c687ba381c"
      },
      "execution_count": 2,
      "outputs": [
        {
          "output_type": "stream",
          "name": "stdout",
          "text": [
            "加法程式\n",
            "請輸入兩個整數值> 55 55\n",
            "答案是 110\n"
          ]
        }
      ]
    },
    {
      "cell_type": "code",
      "source": [
        "i='* '\n",
        "j='  '\n",
        "print(i*10+'\\n'+i+j*8+i+'\\n'+i+j*8+i+'\\n'+i+j*8+i+'\\n'+i+j*8+i+'\\n'+i+j*8+i+'\\n'+i+j*8+i+'\\n'+i+j*8+i+'\\n'+i+j*8+i+'\\n'+i+j*8+i+'\\n'+i*10)"
      ],
      "metadata": {
        "colab": {
          "base_uri": "https://localhost:8080/"
        },
        "id": "cfnf3QyGsq1o",
        "outputId": "df873c1e-7d50-4c2e-8f45-04c2448b23a9"
      },
      "execution_count": 6,
      "outputs": [
        {
          "output_type": "stream",
          "name": "stdout",
          "text": [
            "* * * * * * * * * * \n",
            "*                 * \n",
            "*                 * \n",
            "*                 * \n",
            "*                 * \n",
            "*                 * \n",
            "*                 * \n",
            "*                 * \n",
            "*                 * \n",
            "*                 * \n",
            "* * * * * * * * * * \n"
          ]
        }
      ]
    },
    {
      "cell_type": "code",
      "source": [
        "string = 'hello'\n",
        "print(string[0])"
      ],
      "metadata": {
        "colab": {
          "base_uri": "https://localhost:8080/"
        },
        "id": "ibnu_KjFuw0H",
        "outputId": "8be59d85-f1e8-44b9-d932-2b918b4f2383"
      },
      "execution_count": 11,
      "outputs": [
        {
          "output_type": "stream",
          "name": "stdout",
          "text": [
            "h\n"
          ]
        }
      ]
    },
    {
      "cell_type": "code",
      "source": [],
      "metadata": {
        "id": "QX2LtyBMyRhA"
      },
      "execution_count": null,
      "outputs": []
    },
    {
      "cell_type": "code",
      "source": [
        "a, b, c, d, e= input('請輸入學號 姓名 科系 年級 星座> ').split()\n",
        "a = int(a)\n",
        "b = str(b)\n",
        "c = str(c)\n",
        "d = str(d)\n",
        "e = str(e)\n",
        "aa = str(a)\n",
        "all = aa+b+c+d+e\n",
        "if( a%2 == 0):\n",
        "  print(all[1::2])\n",
        "else:\n",
        "  print(all[1::2])"
      ],
      "metadata": {
        "colab": {
          "base_uri": "https://localhost:8080/"
        },
        "id": "fKV6LXBOvKKm",
        "outputId": "77417967-1730-4f53-c927-99293e264075"
      },
      "execution_count": 15,
      "outputs": [
        {
          "output_type": "stream",
          "name": "stdout",
          "text": [
            "請輸入學號 姓名 科系 年級 星座> 11113121 張庭宸 化學 四年級 雙魚座\n",
            "1111庭化四級魚\n"
          ]
        }
      ]
    },
    {
      "cell_type": "code",
      "source": [
        "string = '11113121 張庭宸 化學 四年級 雙魚座'\n",
        "print(string[0::2])"
      ],
      "metadata": {
        "colab": {
          "base_uri": "https://localhost:8080/"
        },
        "id": "_INCAdeTxhCX",
        "outputId": "e0ca9935-5d9e-4f75-fd6a-5450e3153834"
      },
      "execution_count": 13,
      "outputs": [
        {
          "output_type": "stream",
          "name": "stdout",
          "text": [
            "1132 庭 學四級雙座\n"
          ]
        }
      ]
    }
  ]
}