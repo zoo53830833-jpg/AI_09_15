{
  "nbformat": 4,
  "nbformat_minor": 0,
  "metadata": {
    "colab": {
      "provenance": [],
      "authorship_tag": "ABX9TyMnQIZf6lpxPLDbaQKKmNta",
      "include_colab_link": true
    },
    "kernelspec": {
      "name": "python3",
      "display_name": "Python 3"
    },
    "language_info": {
      "name": "python"
    }
  },
  "cells": [
    {
      "cell_type": "markdown",
      "metadata": {
        "id": "view-in-github",
        "colab_type": "text"
      },
      "source": [
        "<a href=\"https://colab.research.google.com/github/zoo53830833-jpg/AI_09_15/blob/main/0915001.ipynb\" target=\"_parent\"><img src=\"https://colab.research.google.com/assets/colab-badge.svg\" alt=\"Open In Colab\"/></a>"
      ]
    },
    {
      "cell_type": "code",
      "execution_count": 6,
      "metadata": {
        "colab": {
          "base_uri": "https://localhost:8080/"
        },
        "id": "vY7jO7LGUE7O",
        "outputId": "8aa1c794-ba1f-464f-a55e-fc0a67b0afb6"
      },
      "outputs": [
        {
          "output_type": "stream",
          "name": "stdout",
          "text": [
            "11113121 hello python\n"
          ]
        }
      ],
      "source": [
        "i=\"11113121 \"\n",
        "j=\"hello python\"\n",
        "print(i+j)"
      ]
    }
  ]
}