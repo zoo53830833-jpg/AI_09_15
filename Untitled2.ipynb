{
  "nbformat": 4,
  "nbformat_minor": 0,
  "metadata": {
    "colab": {
      "provenance": [],
      "authorship_tag": "ABX9TyMi/4Y3+zvU89fDIv2oBd3a",
      "include_colab_link": true
    },
    "kernelspec": {
      "name": "python3",
      "display_name": "Python 3"
    },
    "language_info": {
      "name": "python"
    }
  },
  "cells": [
    {
      "cell_type": "markdown",
      "metadata": {
        "id": "view-in-github",
        "colab_type": "text"
      },
      "source": [
        "<a href=\"https://colab.research.google.com/github/zoo53830833-jpg/AI_09_15/blob/main/Untitled2.ipynb\" target=\"_parent\"><img src=\"https://colab.research.google.com/assets/colab-badge.svg\" alt=\"Open In Colab\"/></a>"
      ]
    },
    {
      "cell_type": "code",
      "execution_count": 1,
      "metadata": {
        "colab": {
          "base_uri": "https://localhost:8080/"
        },
        "id": "umr_mPyyiRh0",
        "outputId": "4d5cd02b-a075-459d-9108-e8571ed882cf"
      },
      "outputs": [
        {
          "output_type": "stream",
          "name": "stdout",
          "text": [
            "請輸入要計算的數字：10\n",
            "這是加5後的答案 15\n",
            "這是輪入的資料型別: <class 'int'>\n"
          ]
        }
      ],
      "source": [
        "a = input('請輸入要計算的數字：')\n",
        "a=int(a)+5 # int ：資料轉型\n",
        "print('這是加5後的答案',a)\n",
        "print('這是輪入的資料型別:',type(a))\n"
      ]
    },
    {
      "cell_type": "code",
      "source": [
        "print('加法程式')                            # 輸出提示訊息，告知使用者這是一個加法程式\n",
        "x, y = input('請輸入兩個整數值> ').split()   # 提示使用者輸入兩個整數，使用 input() 獲取輸入，並使用 split() 將輸入的字串按空格分割，分別賦值給變數 x 和 y\n",
        "x = int(x)                                   # 將變數 x 的值從字串轉換為整數\n",
        "y = int(y)                                   # 將變數 y 的值從字串轉換為整數\n",
        "total = x + y                                # 將變數 x 和 y 相加，結果賦值給變數 total\n",
        "print('答案是', total)                       # 輸出結果，顯示兩數相加的總和\n",
        "\n"
      ],
      "metadata": {
        "id": "f0QyfniRmhbD",
        "outputId": "231214ee-862d-486b-b2a8-2130ef6be474",
        "colab": {
          "base_uri": "https://localhost:8080/"
        }
      },
      "execution_count": 2,
      "outputs": [
        {
          "output_type": "stream",
          "name": "stdout",
          "text": [
            "加法程式\n",
            "請輸入兩個整數值> 50 66\n",
            "答案是 116\n"
          ]
        }
      ]
    }
  ]
}