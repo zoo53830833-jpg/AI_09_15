{
  "nbformat": 4,
  "nbformat_minor": 0,
  "metadata": {
    "colab": {
      "provenance": [],
      "authorship_tag": "ABX9TyNZjiIUVTU3s8Ggq+1YakFo",
      "include_colab_link": true
    },
    "kernelspec": {
      "name": "python3",
      "display_name": "Python 3"
    },
    "language_info": {
      "name": "python"
    }
  },
  "cells": [
    {
      "cell_type": "markdown",
      "metadata": {
        "id": "view-in-github",
        "colab_type": "text"
      },
      "source": [
        "<a href=\"https://colab.research.google.com/github/zoo53830833-jpg/AI_09_15/blob/main/Untitled2.ipynb\" target=\"_parent\"><img src=\"https://colab.research.google.com/assets/colab-badge.svg\" alt=\"Open In Colab\"/></a>"
      ]
    },
    {
      "cell_type": "code",
      "execution_count": 1,
      "metadata": {
        "colab": {
          "base_uri": "https://localhost:8080/"
        },
        "id": "umr_mPyyiRh0",
        "outputId": "4d5cd02b-a075-459d-9108-e8571ed882cf"
      },
      "outputs": [
        {
          "output_type": "stream",
          "name": "stdout",
          "text": [
            "請輸入要計算的數字：10\n",
            "這是加5後的答案 15\n",
            "這是輪入的資料型別: <class 'int'>\n"
          ]
        }
      ],
      "source": [
        "a = input('請輸入要計算的數字：')\n",
        "a=int(a)+5 # int ：資料轉型\n",
        "print('這是加5後的答案',a)\n",
        "print('這是輪入的資料型別:',type(a))\n"
      ]
    },
    {
      "cell_type": "code",
      "source": [
        "print('加法程式')                            # 輸出提示訊息，告知使用者這是一個加法程式\n",
        "x, y = input('請輸入兩個整數值> ').split()   # 提示使用者輸入兩個整數，使用 input() 獲取輸入，並使用 split() 將輸入的字串按空格分割，分別賦值給變數 x 和 y\n",
        "x = int(x)                                   # 將變數 x 的值從字串轉換為整數\n",
        "y = int(y)                                   # 將變數 y 的值從字串轉換為整數\n",
        "total = x + y                                # 將變數 x 和 y 相加，結果賦值給變數 total\n",
        "print('答案是', total)                       # 輸出結果，顯示兩數相加的總和\n",
        "\n"
      ],
      "metadata": {
        "colab": {
          "base_uri": "https://localhost:8080/"
        },
        "id": "f0QyfniRmhbD",
        "outputId": "231214ee-862d-486b-b2a8-2130ef6be474"
      },
      "execution_count": 2,
      "outputs": [
        {
          "output_type": "stream",
          "name": "stdout",
          "text": [
            "加法程式\n",
            "請輸入兩個整數值> 50 66\n",
            "答案是 116\n"
          ]
        }
      ]
    },
    {
      "cell_type": "markdown",
      "source": [],
      "metadata": {
        "id": "ke6F3nOxoHYq"
      }
    },
    {
      "cell_type": "code",
      "source": [
        "T = \"Python 是 一門 強大的 編程 語言\"  # 定義一個包含多個單詞的字符串\n",
        "ans = T.split(' ',2)  # 使用 split(' ', 2) 方法將字符串按照空格分割，最多分割兩次\n",
        "print(ans)  # 輸出結果：['Python', '是', '一門 強大的 編程 語言']\n"
      ],
      "metadata": {
        "colab": {
          "base_uri": "https://localhost:8080/"
        },
        "id": "f4mQTQFyoHwq",
        "outputId": "02384e76-070b-4125-d1ce-c37482e720a0"
      },
      "execution_count": 5,
      "outputs": [
        {
          "output_type": "stream",
          "name": "stdout",
          "text": [
            "['Python', '是', '一門 強大的 編程 語言']\n"
          ]
        }
      ]
    },
    {
      "cell_type": "code",
      "source": [
        "num1 = 50                           # 將整數 50 賦值給變數 num1\n",
        "print(\"The number is\", num1)        # 輸出字串 \"The number is\" 和變數 num1 的值\n",
        "if num1 > 10:                       # 檢查 num1 是否大於 10\n",
        "    print(\"The number is larger than 10\")  # 如果條件為真，輸出 \"The number is larger than 10\"\n",
        "else :                               # 如果條件為假，執行以下區塊\n",
        "    print(\"The number is less than 10\")    # 輸出 \"The number is less than 10\"\n"
      ],
      "metadata": {
        "colab": {
          "base_uri": "https://localhost:8080/"
        },
        "id": "oCTDTG_1pf_5",
        "outputId": "63a51a1b-b962-43eb-86c8-cc0562d76363"
      },
      "execution_count": 6,
      "outputs": [
        {
          "output_type": "stream",
          "name": "stdout",
          "text": [
            "The number is 50\n",
            "The number is larger than 10\n"
          ]
        }
      ]
    },
    {
      "cell_type": "code",
      "source": [
        "num1 = 500  # 將整數 50 賦值給變數 num1\n",
        "print(\"The number is\", num1)  # 輸出字串 \"The number is\" 和變數 num1 的值\n",
        "if num1 < 10:\n",
        "    print(\"The number is less than 10\")  # 如果 num1 小於 10，輸出對應的提示訊息\n",
        "elif num1 < 100:\n",
        "    print(\"The number is greater than 10 and less than 100\")  # 如果 num1 大於等於 10 且小於 100，輸出對應的提示訊息\n",
        "else:\n",
        "    print(\"The number is greater than or equal to 100\")  # 如果 num1 大於等於 100，輸出對應的提示訊息\n"
      ],
      "metadata": {
        "colab": {
          "base_uri": "https://localhost:8080/"
        },
        "id": "XNbcCZ_-qdCP",
        "outputId": "30009617-446b-45c4-c44c-3c9136cd6704"
      },
      "execution_count": 8,
      "outputs": [
        {
          "output_type": "stream",
          "name": "stdout",
          "text": [
            "The number is 500\n",
            "The number is greater than or equal to 100\n"
          ]
        }
      ]
    }
  ]
}